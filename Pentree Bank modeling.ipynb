{
  "nbformat": 4,
  "nbformat_minor": 0,
  "metadata": {
    "colab": {
      "name": "Proyek Deep Learning - Pentree Bank GPU.ipynb",
      "provenance": [],
      "collapsed_sections": [],
      "machine_shape": "hm",
      "include_colab_link": true
    },
    "kernelspec": {
      "name": "python3",
      "display_name": "Python 3"
    },
    "accelerator": "GPU"
  },
  "cells": [
    {
      "cell_type": "markdown",
      "metadata": {
        "id": "view-in-github",
        "colab_type": "text"
      },
      "source": [
        "<a href=\"https://colab.research.google.com/github/amfakh/Dicoding-Submission/blob/master/Pentree%20Bank%20modeling.ipynb\" target=\"_parent\"><img src=\"https://colab.research.google.com/assets/colab-badge.svg\" alt=\"Open In Colab\"/></a>"
      ]
    },
    {
      "cell_type": "code",
      "metadata": {
        "id": "4ZYrhg5ae1DY",
        "colab_type": "code",
        "colab": {
          "base_uri": "https://localhost:8080/",
          "height": 146
        },
        "outputId": "c848cda2-9f19-4fd0-da95-ef9ae91bdeba"
      },
      "source": [
        "!mkdir -p /resources/data\n",
        "!wget -q -O /resources/data/ptb.zip https://ibm.box.com/shared/static/z2yvmhbskc45xd2a9a4kkn6hg4g4kj5r.zip\n",
        "!unzip -o /resources/data/ptb.zip -d /resources/\n",
        "!cp /resources/ptb/reader.py ."
      ],
      "execution_count": null,
      "outputs": [
        {
          "output_type": "stream",
          "text": [
            "Archive:  /resources/data/ptb.zip\n",
            "   creating: /resources/ptb/\n",
            "  inflating: /resources/ptb/reader.py  \n",
            "   creating: /resources/__MACOSX/\n",
            "   creating: /resources/__MACOSX/ptb/\n",
            "  inflating: /resources/__MACOSX/ptb/._reader.py  \n",
            "  inflating: /resources/__MACOSX/._ptb  \n"
          ],
          "name": "stdout"
        }
      ]
    },
    {
      "cell_type": "code",
      "metadata": {
        "id": "L0Xez0Mge6d6",
        "colab_type": "code",
        "colab": {
          "base_uri": "https://localhost:8080/",
          "height": 65
        },
        "outputId": "a6d510e1-9fc7-41ee-d9f9-5accd524a5c4"
      },
      "source": [
        "import reader"
      ],
      "execution_count": null,
      "outputs": [
        {
          "output_type": "display_data",
          "data": {
            "text/html": [
              "<p style=\"color: red;\">\n",
              "The default version of TensorFlow in Colab will soon switch to TensorFlow 2.x.<br>\n",
              "We recommend you <a href=\"https://www.tensorflow.org/guide/migrate\" target=\"_blank\">upgrade</a> now \n",
              "or ensure your notebook will continue to use TensorFlow 1.x via the <code>%tensorflow_version 1.x</code> magic:\n",
              "<a href=\"https://colab.research.google.com/notebooks/tensorflow_version.ipynb\" target=\"_blank\">more info</a>.</p>\n"
            ],
            "text/plain": [
              "<IPython.core.display.HTML object>"
            ]
          },
          "metadata": {
            "tags": []
          }
        }
      ]
    },
    {
      "cell_type": "code",
      "metadata": {
        "id": "fYSe2N-we_xH",
        "colab_type": "code",
        "colab": {
          "base_uri": "https://localhost:8080/",
          "height": 219
        },
        "outputId": "a16b0944-277f-4130-d9b7-08d76b3a779d"
      },
      "source": [
        "!wget http://www.fit.vutbr.cz/~imikolov/rnnlm/simple-examples.tgz\n",
        "!tar xzf simple-examples.tgz -C /resources/data/"
      ],
      "execution_count": null,
      "outputs": [
        {
          "output_type": "stream",
          "text": [
            "--2019-11-19 12:01:42--  http://www.fit.vutbr.cz/~imikolov/rnnlm/simple-examples.tgz\n",
            "Resolving www.fit.vutbr.cz (www.fit.vutbr.cz)... 147.229.9.23, 2001:67c:1220:809::93e5:917\n",
            "Connecting to www.fit.vutbr.cz (www.fit.vutbr.cz)|147.229.9.23|:80... connected.\n",
            "HTTP request sent, awaiting response... 200 OK\n",
            "Length: 34869662 (33M) [application/x-gtar]\n",
            "Saving to: ‘simple-examples.tgz’\n",
            "\n",
            "simple-examples.tgz 100%[===================>]  33.25M  3.44MB/s    in 9.9s    \n",
            "\n",
            "2019-11-19 12:01:52 (3.37 MB/s) - ‘simple-examples.tgz’ saved [34869662/34869662]\n",
            "\n"
          ],
          "name": "stdout"
        }
      ]
    },
    {
      "cell_type": "code",
      "metadata": {
        "id": "P6U9vQNpfBnO",
        "colab_type": "code",
        "colab": {
          "base_uri": "https://localhost:8080/",
          "height": 54
        },
        "outputId": "93ece5ec-3d5a-4c59-9945-54df854436b4"
      },
      "source": [
        "# Direktori menuju dataset yang barusan kita download\n",
        "data_path = \"/resources/data/simple-examples/data/\"\n",
        "# Mengambil data\n",
        "raw_data = reader.ptb_raw_data(data_path)\n",
        "# memisahkan data menjadi 5 buah tipe\n",
        "train_data, valid_data, test_data, vocabulary, word_to_id = raw_data"
      ],
      "execution_count": null,
      "outputs": [
        {
          "output_type": "stream",
          "text": [
            "WARNING:tensorflow:From /content/reader.py:30: The name tf.gfile.GFile is deprecated. Please use tf.io.gfile.GFile instead.\n",
            "\n"
          ],
          "name": "stdout"
        }
      ]
    },
    {
      "cell_type": "code",
      "metadata": {
        "id": "7VbL1NBjfDT3",
        "colab_type": "code",
        "colab": {}
      },
      "source": [
        "# key dan value dalam dictionary dibalik\n",
        "id_to_word = dict(zip(word_to_id.values(), word_to_id.keys()))"
      ],
      "execution_count": null,
      "outputs": []
    },
    {
      "cell_type": "code",
      "metadata": {
        "id": "zTsrtSs9fE6B",
        "colab_type": "code",
        "colab": {
          "base_uri": "https://localhost:8080/",
          "height": 35
        },
        "outputId": "ad21badb-b1bb-4eeb-9a3f-46adf14bac7a"
      },
      "source": [
        "# lihat kata ke 100 sampai 110\n",
        "print(\" \".join([id_to_word[x] for x in train_data[100:120]]))"
      ],
      "execution_count": null,
      "outputs": [
        {
          "output_type": "stream",
          "text": [
            "workers exposed to it more than N years ago researchers reported <eos> the asbestos fiber <unk> is unusually <unk> once\n"
          ],
          "name": "stdout"
        }
      ]
    },
    {
      "cell_type": "code",
      "metadata": {
        "id": "q-ELwVuEZfSy",
        "colab_type": "code",
        "colab": {
          "base_uri": "https://localhost:8080/",
          "height": 90
        },
        "outputId": "d767f3d8-adea-450a-bb2c-3145845b6b4a"
      },
      "source": [
        "print(len(train_data))\n",
        "print(len(valid_data))\n",
        "print(len(test_data))\n",
        "print(vocabulary)"
      ],
      "execution_count": null,
      "outputs": [
        {
          "output_type": "stream",
          "text": [
            "929589\n",
            "73760\n",
            "82430\n",
            "10000\n"
          ],
          "name": "stdout"
        }
      ]
    },
    {
      "cell_type": "code",
      "metadata": {
        "id": "6it7srfkrKo5",
        "colab_type": "code",
        "colab": {}
      },
      "source": [
        "from __future__ import print_function\n",
        "import collections\n",
        "import os\n",
        "import tensorflow as tf\n",
        "from tensorflow.keras.models import Sequential, load_model\n",
        "from tensorflow.keras.layers import Dense, Input, Activation, Embedding, Dropout, TimeDistributed\n",
        "from tensorflow.keras.layers import LSTM\n",
        "from tensorflow.python.keras.optimizers import Adam\n",
        "from tensorflow.keras.utils import to_categorical\n",
        "from tensorflow.keras.callbacks import ModelCheckpoint\n",
        "import numpy as np\n",
        "import argparse"
      ],
      "execution_count": null,
      "outputs": []
    },
    {
      "cell_type": "code",
      "metadata": {
        "id": "GjrZyVbHrLx8",
        "colab_type": "code",
        "colab": {}
      },
      "source": [
        "class KerasBatchGenerator(object):\n",
        "    def __init__(self, data, num_steps, batch_size, vocabulary, skip_step=5):\n",
        "        self.data = data\n",
        "        self.num_steps = num_steps\n",
        "        self.batch_size = batch_size\n",
        "        self.vocabulary = vocabulary\n",
        "        # this will track the progress of the batches sequentially through the\n",
        "        # data set - once the data reaches the end of the data set it will reset\n",
        "        # back to zero\n",
        "        self.current_idx = 0\n",
        "        # skip_step is the number of words which will be skipped before the next\n",
        "        # batch is skimmed from the data set\n",
        "        self.skip_step = skip_step"
      ],
      "execution_count": null,
      "outputs": []
    },
    {
      "cell_type": "code",
      "metadata": {
        "id": "GXQ0qoILiZjx",
        "colab_type": "code",
        "colab": {}
      },
      "source": [
        "def generate(self):\n",
        "    x = np.zeros((self.batch_size, self.num_steps))\n",
        "    y = np.zeros((self.batch_size, self.num_steps, self.vocabulary))\n",
        "    while True:\n",
        "        for i in range(self.batch_size):\n",
        "            if self.current_idx + self.num_steps >= len(self.data):\n",
        "                # reset the index back to the start of the data set\n",
        "                self.current_idx = 0\n",
        "            x[i, :] = self.data[self.current_idx:self.current_idx + self.num_steps]\n",
        "            temp_y = self.data[self.current_idx + 1:self.current_idx + self.num_steps + 1]\n",
        "            # convert all of temp_y into a one hot representation\n",
        "            y[i, :, :] = to_categorical(temp_y, num_classes=self.vocabulary)\n",
        "            self.current_idx += self.skip_step\n",
        "        yield x, y"
      ],
      "execution_count": null,
      "outputs": []
    },
    {
      "cell_type": "code",
      "metadata": {
        "id": "_56ui3F1doOr",
        "colab_type": "code",
        "colab": {
          "base_uri": "https://localhost:8080/",
          "height": 54
        },
        "outputId": "cf0c5ec0-95a1-4eb3-9cf5-380614b910f4"
      },
      "source": [
        "num_steps = 30\n",
        "batch_size = 30\n",
        "hidden_size = 1000\n",
        "\n",
        "iterator = reader.ptb_iterator(train_data, batch_size, num_steps)\n",
        "x, y = iterator.__next__()\n",
        "\n",
        "print('x, input data: {}'.format(x.shape))\n",
        "print('y, target data: {}'.format(y.shape))"
      ],
      "execution_count": null,
      "outputs": [
        {
          "output_type": "stream",
          "text": [
            "x, input data: (30, 30)\n",
            "y, target data: (30, 30)\n"
          ],
          "name": "stdout"
        }
      ]
    },
    {
      "cell_type": "code",
      "metadata": {
        "id": "NBHKPfj6tC0h",
        "colab_type": "code",
        "colab": {}
      },
      "source": [
        "train_data_generator = KerasBatchGenerator(train_data, num_steps, batch_size, vocabulary,\n",
        "                                           skip_step=num_steps)\n",
        "valid_data_generator = KerasBatchGenerator(valid_data, num_steps, batch_size, vocabulary,\n",
        "                                           skip_step=num_steps)"
      ],
      "execution_count": null,
      "outputs": []
    },
    {
      "cell_type": "code",
      "metadata": {
        "id": "eQ5V7FIVdpsG",
        "colab_type": "code",
        "colab": {
          "base_uri": "https://localhost:8080/",
          "height": 496
        },
        "outputId": "80e39604-e9f6-4f67-dfc6-dfe9a8d5a4cf"
      },
      "source": [
        "model = Sequential()\n",
        "model.add(Embedding(vocabulary, hidden_size, input_length=num_steps))\n",
        "model.add(LSTM(hidden_size, return_sequences=True))\n",
        "model.add(LSTM(hidden_size, return_sequences=True))\n",
        "# model.add(Dropout(0.5))\n",
        "model.add(TimeDistributed(Dense(vocabulary)))\n",
        "model.add(Activation('softmax'))\n",
        "\n",
        "optimizer = Adam()\n",
        "\n",
        "model.compile(loss='categorical_crossentropy', optimizer=optimizer, \n",
        "              metrics=['categorical_accuracy'])\n",
        "\n",
        "print(model.summary())"
      ],
      "execution_count": null,
      "outputs": [
        {
          "output_type": "stream",
          "text": [
            "WARNING:tensorflow:From /usr/local/lib/python3.6/dist-packages/tensorflow_core/python/keras/initializers.py:119: calling RandomUniform.__init__ (from tensorflow.python.ops.init_ops) with dtype is deprecated and will be removed in a future version.\n",
            "Instructions for updating:\n",
            "Call initializer instance with the dtype argument instead of passing it to the constructor\n",
            "WARNING:tensorflow:From /usr/local/lib/python3.6/dist-packages/tensorflow_core/python/ops/resource_variable_ops.py:1630: calling BaseResourceVariable.__init__ (from tensorflow.python.ops.resource_variable_ops) with constraint is deprecated and will be removed in a future version.\n",
            "Instructions for updating:\n",
            "If using Keras pass *_constraint arguments to layers.\n",
            "Model: \"sequential\"\n",
            "_________________________________________________________________\n",
            "Layer (type)                 Output Shape              Param #   \n",
            "=================================================================\n",
            "embedding (Embedding)        (None, 30, 1000)          10000000  \n",
            "_________________________________________________________________\n",
            "lstm (LSTM)                  (None, 30, 1000)          8004000   \n",
            "_________________________________________________________________\n",
            "lstm_1 (LSTM)                (None, 30, 1000)          8004000   \n",
            "_________________________________________________________________\n",
            "time_distributed (TimeDistri (None, 30, 10000)         10010000  \n",
            "_________________________________________________________________\n",
            "activation (Activation)      (None, 30, 10000)         0         \n",
            "=================================================================\n",
            "Total params: 36,018,000\n",
            "Trainable params: 36,018,000\n",
            "Non-trainable params: 0\n",
            "_________________________________________________________________\n",
            "None\n"
          ],
          "name": "stdout"
        }
      ]
    },
    {
      "cell_type": "code",
      "metadata": {
        "id": "JPB5TXD1QdEJ",
        "colab_type": "code",
        "colab": {}
      },
      "source": [
        "checkpointer = ModelCheckpoint(filepath=data_path + '/model-{epoch:02d}.hdf5', verbose=1)"
      ],
      "execution_count": null,
      "outputs": []
    },
    {
      "cell_type": "code",
      "metadata": {
        "id": "Y-44Ar1-tSUO",
        "colab_type": "code",
        "colab": {
          "base_uri": "https://localhost:8080/",
          "height": 697
        },
        "outputId": "9fc95fa1-bc36-4ca5-fe51-ab04afc7f2e0"
      },
      "source": [
        "num_epochs = 50\n",
        "\n",
        "import time\n",
        "from keras.callbacks import EarlyStopping\n",
        "\n",
        "print(\"--- Start ---\")\n",
        "start_time = time.time()\n",
        "\n",
        "\n",
        "es = EarlyStopping(monitor='val_loss', mode='min', \n",
        "                   verbose=1, patience=5)\n",
        "\n",
        "history = model.fit_generator(generate(train_data_generator), len(train_data)//(batch_size*num_steps), num_epochs,\n",
        "                    validation_data=generate(valid_data_generator),\n",
        "                    validation_steps=len(valid_data)//(batch_size*num_steps)\n",
        "                    ,callbacks=[es]\n",
        "                    )\n",
        "# model.fit_generator(train_data_generator.generate(), 2000, num_epochs,\n",
        "#                     validation_data=valid_data_generator.generate(),\n",
        "#                     validation_steps=10)\n",
        "\n",
        "print(\"--- Finish ---\")\n",
        "print(\"--- %s seconds ---\" % (time.time() - start_time))\n",
        "model.save(data_path + \"final_model.hdf5\")"
      ],
      "execution_count": null,
      "outputs": [
        {
          "output_type": "stream",
          "text": [
            "--- Start ---\n",
            "Epoch 1/50\n",
            "WARNING:tensorflow:From /usr/local/lib/python3.6/dist-packages/tensorflow_core/python/ops/math_grad.py:1424: where (from tensorflow.python.ops.array_ops) is deprecated and will be removed in a future version.\n",
            "Instructions for updating:\n",
            "Use tf.where in 2.0, which has the same broadcast rule as np.where\n",
            "1031/1032 [============================>.] - ETA: 0s - loss: 6.5508 - categorical_accuracy: 0.0854Epoch 1/50\n",
            "1032/1032 [==============================] - 201s 195ms/step - loss: 6.5502 - categorical_accuracy: 0.0854 - val_loss: 5.8463 - val_categorical_accuracy: 0.1481\n",
            "Epoch 2/50\n",
            "1031/1032 [============================>.] - ETA: 0s - loss: 5.5601 - categorical_accuracy: 0.1729Epoch 1/50\n",
            "1032/1032 [==============================] - 197s 191ms/step - loss: 5.5599 - categorical_accuracy: 0.1730 - val_loss: 5.4109 - val_categorical_accuracy: 0.1901\n",
            "Epoch 3/50\n",
            "1031/1032 [============================>.] - ETA: 0s - loss: 5.1167 - categorical_accuracy: 0.2048Epoch 1/50\n",
            "1032/1032 [==============================] - 197s 191ms/step - loss: 5.1163 - categorical_accuracy: 0.2048 - val_loss: 5.2089 - val_categorical_accuracy: 0.2104\n",
            "Epoch 4/50\n",
            "1031/1032 [============================>.] - ETA: 0s - loss: 4.8073 - categorical_accuracy: 0.2246Epoch 1/50\n",
            "1032/1032 [==============================] - 197s 191ms/step - loss: 4.8073 - categorical_accuracy: 0.2246 - val_loss: 5.1453 - val_categorical_accuracy: 0.2187\n",
            "Epoch 5/50\n",
            "1031/1032 [============================>.] - ETA: 0s - loss: 4.5639 - categorical_accuracy: 0.2398Epoch 1/50\n",
            "1032/1032 [==============================] - 197s 190ms/step - loss: 4.5638 - categorical_accuracy: 0.2398 - val_loss: 5.1129 - val_categorical_accuracy: 0.2224\n",
            "Epoch 6/50\n",
            "1031/1032 [============================>.] - ETA: 0s - loss: 4.2994 - categorical_accuracy: 0.2567Epoch 1/50\n",
            "1032/1032 [==============================] - 196s 190ms/step - loss: 4.2992 - categorical_accuracy: 0.2567 - val_loss: 5.1467 - val_categorical_accuracy: 0.2251\n",
            "Epoch 7/50\n",
            "1031/1032 [============================>.] - ETA: 0s - loss: 4.0591 - categorical_accuracy: 0.2738Epoch 1/50\n",
            "1032/1032 [==============================] - 196s 190ms/step - loss: 4.0589 - categorical_accuracy: 0.2738 - val_loss: 5.2079 - val_categorical_accuracy: 0.2217\n",
            "Epoch 8/50\n",
            "1031/1032 [============================>.] - ETA: 0s - loss: 3.8054 - categorical_accuracy: 0.2947Epoch 1/50\n",
            "1032/1032 [==============================] - 196s 190ms/step - loss: 3.8056 - categorical_accuracy: 0.2947 - val_loss: 5.1494 - val_categorical_accuracy: 0.2321\n",
            "Epoch 9/50\n",
            "1031/1032 [============================>.] - ETA: 0s - loss: 3.5630 - categorical_accuracy: 0.3199Epoch 1/50\n",
            "1032/1032 [==============================] - 196s 190ms/step - loss: 3.5628 - categorical_accuracy: 0.3199 - val_loss: 5.2327 - val_categorical_accuracy: 0.2282\n",
            "Epoch 10/50\n",
            "1031/1032 [============================>.] - ETA: 0s - loss: 3.3310 - categorical_accuracy: 0.3482Epoch 1/50\n",
            "1032/1032 [==============================] - 196s 190ms/step - loss: 3.3308 - categorical_accuracy: 0.3483 - val_loss: 5.4906 - val_categorical_accuracy: 0.2175\n",
            "Epoch 00010: early stopping\n",
            "--- Finish ---\n",
            "--- 1974.8761837482452 seconds ---\n"
          ],
          "name": "stdout"
        }
      ]
    },
    {
      "cell_type": "code",
      "metadata": {
        "id": "J6gvH2AHqOwt",
        "colab_type": "code",
        "colab": {}
      },
      "source": [
        "import matplotlib.pyplot as plt\n",
        "plt.style.use('ggplot')\n",
        "\n",
        "def plot_history(history):\n",
        "    acc = history.history['categorical_accuracy']\n",
        "    val_acc = history.history['val_categorical_accuracy']\n",
        "    loss = history.history['loss']\n",
        "    val_loss = history.history['val_loss']\n",
        "    x = range(1, len(acc) + 1)\n",
        "\n",
        "    plt.figure(figsize=(15, 5))\n",
        "    plt.subplot(1, 2, 1)\n",
        "    plt.plot(x, acc, 'b', label='Training acc')\n",
        "    plt.plot(x, val_acc, 'r', label='Validation acc')\n",
        "    plt.title('Training and validation accuracy')\n",
        "    plt.legend()\n",
        "    plt.subplot(1, 2, 2)\n",
        "    plt.plot(x, loss, 'b', label='Training loss')\n",
        "    plt.plot(x, val_loss, 'r', label='Validation loss')\n",
        "    plt.title('Training and validation loss')\n",
        "    plt.legend()"
      ],
      "execution_count": null,
      "outputs": []
    },
    {
      "cell_type": "code",
      "metadata": {
        "id": "gxRVU8_E56BK",
        "colab_type": "code",
        "colab": {
          "base_uri": "https://localhost:8080/",
          "height": 337
        },
        "outputId": "b23d48d4-e400-42d8-d421-c65b9f27b5a2"
      },
      "source": [
        "plot_history(history)"
      ],
      "execution_count": null,
      "outputs": [
        {
          "output_type": "display_data",
          "data": {
            "image/png": "[encoded data removed]",
            "text/plain": [
              "<Figure size 1080x360 with 2 Axes>"
            ]
          },
          "metadata": {
            "tags": []
          }
        }
      ]
    },
    {
      "cell_type": "code",
      "metadata": {
        "id": "bf1_VBXwhJ9O",
        "colab_type": "code",
        "colab": {}
      },
      "source": [
        "loss = history.history['loss']\n",
        "perp = tf.exp(loss)\n",
        "\n",
        "index = []\n",
        "length = len(loss)\n",
        "for i in range(length):\n",
        "  index.append(i+1)\n",
        "\n",
        "epoch = np.array(index) + 0."
      ],
      "execution_count": null,
      "outputs": []
    },
    {
      "cell_type": "code",
      "metadata": {
        "id": "iIBQmQg1hP0D",
        "colab_type": "code",
        "colab": {
          "base_uri": "https://localhost:8080/",
          "height": 391
        },
        "outputId": "e9c714d6-ce5e-4237-9135-ab2ef5f72b4e"
      },
      "source": [
        "with tf.Session() as sess:\n",
        "    print('Perplexity:', sess.run(perp)) \n",
        "    plt.figure(figsize=(7, 5))\n",
        "    plt.plot(epoch, sess.run(perp), color = 'b')  \n",
        "    plt.title(\"Model Perplexity\")  \n",
        "    plt.xlabel(\"Epoch\")  \n",
        "    plt.ylabel(\"Perplexity\")  \n",
        "  \n",
        "    plt.show() "
      ],
      "execution_count": null,
      "outputs": [
        {
          "output_type": "stream",
          "text": [
            "Perplexity: [699.41504  259.7849   166.71286  122.40642   95.94646   73.638824\n",
            "  57.907833  44.952873  35.260998  27.961384]\n"
          ],
          "name": "stdout"
        },
        {
          "output_type": "display_data",
          "data": {
            "image/png": "[encoded data removed]",
            "text/plain": [
              "<Figure size 504x360 with 1 Axes>"
            ]
          },
          "metadata": {
            "tags": []
          }
        }
      ]
    },
    {
      "cell_type": "code",
      "metadata": {
        "id": "1zd8gZThrTX0",
        "colab_type": "code",
        "colab": {
          "base_uri": "https://localhost:8080/",
          "height": 127
        },
        "outputId": "2810efd2-86a9-4d52-e5c1-6ab1ac7e37aa"
      },
      "source": [
        "dummy_iters = 40\n",
        "example_training_generator = KerasBatchGenerator(train_data, num_steps, 1, vocabulary,\n",
        "                                                  skip_step=1)\n",
        "print(\"Training data:\")\n",
        "for i in range(dummy_iters):\n",
        "    dummy = next(generate(example_training_generator))\n",
        "num_predict = 10\n",
        "true_print_out = \"Actual words: \"\n",
        "pred_print_out = \"Predicted words: \"\n",
        "for i in range(num_predict):\n",
        "    data = next(generate(example_training_generator))\n",
        "    prediction = model.predict(data[0])\n",
        "    predict_word = np.argmax(prediction[:, num_steps-1, :])\n",
        "    true_print_out += id_to_word[train_data[num_steps + dummy_iters + i]] + \" \"\n",
        "    pred_print_out += id_to_word[predict_word] + \" \"\n",
        "print(true_print_out)\n",
        "print(pred_print_out)\n",
        "# test data set\n",
        "dummy_iters = 40\n",
        "example_test_generator = KerasBatchGenerator(test_data, num_steps, 1, vocabulary,\n",
        "                                                  skip_step=1)\n",
        "print(\"Test data:\")\n",
        "for i in range(dummy_iters):\n",
        "    dummy = next(generate(example_training_generator))\n",
        "num_predict = 10\n",
        "true_print_out = \"Actual words: \"\n",
        "pred_print_out = \"Predicted words: \"\n",
        "for i in range(num_predict):\n",
        "    data = next(generate(example_training_generator))\n",
        "    prediction = model.predict(data[0])\n",
        "    predict_word = np.argmax(prediction[:, num_steps - 1, :])\n",
        "    true_print_out += id_to_word[test_data[num_steps + dummy_iters + i]] + \" \"\n",
        "    pred_print_out += id_to_word[predict_word] + \" \"\n",
        "print(true_print_out)\n",
        "print(pred_print_out)\n",
        "\n"
      ],
      "execution_count": null,
      "outputs": [
        {
          "output_type": "stream",
          "text": [
            "Training data:\n",
            "Actual words: director of this british industrial conglomerate <eos> a form of \n",
            "Predicted words: director of this maker company conglomerate <eos> the <unk> of \n",
            "Test data:\n",
            "Actual words: futures <eos> the N stock specialist firms on the big \n",
            "Predicted words: the is the <unk> of a more <unk> to <unk> \n"
          ],
          "name": "stdout"
        }
      ]
    },
    {
      "cell_type": "code",
      "metadata": {
        "id": "elfYcrjaqiY5",
        "colab_type": "code",
        "colab": {}
      },
      "source": [
        ""
      ],
      "execution_count": null,
      "outputs": []
    }
  ]
}